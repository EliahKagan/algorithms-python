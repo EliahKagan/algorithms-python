{
 "cells": [
  {
   "cell_type": "code",
   "execution_count": 1,
   "id": "cef3143c",
   "metadata": {},
   "outputs": [],
   "source": [
    "import random\n",
    "from warmup import *"
   ]
  },
  {
   "cell_type": "code",
   "execution_count": 2,
   "id": "b98c65cd",
   "metadata": {},
   "outputs": [
    {
     "name": "stdout",
     "output_type": "stream",
     "text": [
      "1, 7, 4, 9, 2, 6, 1, 8, 3, -5.\n",
      "-5, 1, 1, 2, 3, 4, 6, 7, 8, 9.\n"
     ]
    }
   ],
   "source": [
    "a = [1, 7, 4, 9, 2, 6, 1, 8, 3, -5]\n",
    "put(a)\n",
    "timsort(a)\n",
    "put(a)"
   ]
  },
  {
   "cell_type": "code",
   "execution_count": 3,
   "id": "a04473ff",
   "metadata": {},
   "outputs": [
    {
     "name": "stdout",
     "output_type": "stream",
     "text": [
      "4, 9, -5, 1, 7, 8, 6, 3, 2, 1.\n",
      "-5, 1, 1, 3, 7, 9, 2, 4, 6, 8.\n"
     ]
    }
   ],
   "source": [
    "random.shuffle(a)\n",
    "put(a)\n",
    "sort_with_odds_first(a)\n",
    "put(a)"
   ]
  },
  {
   "cell_type": "code",
   "execution_count": 4,
   "id": "98fca298",
   "metadata": {},
   "outputs": [
    {
     "data": {
      "text/plain": [
       "True"
      ]
     },
     "execution_count": 4,
     "metadata": {},
     "output_type": "execute_result"
    }
   ],
   "source": [
    "find_index(a, 7) == 4"
   ]
  },
  {
   "cell_type": "code",
   "execution_count": 5,
   "id": "d742c90f",
   "metadata": {},
   "outputs": [
    {
     "data": {
      "text/plain": [
       "True"
      ]
     },
     "execution_count": 5,
     "metadata": {},
     "output_type": "execute_result"
    }
   ],
   "source": [
    "find_index(a, 5) is None"
   ]
  },
  {
   "cell_type": "code",
   "execution_count": 6,
   "id": "205f45b4",
   "metadata": {},
   "outputs": [
    {
     "name": "stdout",
     "output_type": "stream",
     "text": [
      "On 1000 values, insertion_sort took 58.64800000000003 ms.\n",
      "On 1000 values, mergesort took 60.372300000000045 ms.\n",
      "On 1000 values, mergesort_bottomup took 62.69769999999997 ms.\n",
      "On 10000 values, insertion_sort took 6270.398900000001 ms.\n",
      "On 10000 values, mergesort took 6168.265999999999 ms.\n",
      "On 10000 values, mergesort_bottomup took 6328.5303 ms.\n",
      "On 40000 values, insertion_sort took 100705.22200000001 ms.\n",
      "On 40000 values, mergesort took 101125.81130000002 ms.\n",
      "On 40000 values, mergesort_bottomup took 100422.912 ms.\n"
     ]
    }
   ],
   "source": [
    "def random_values(count):\n",
    "    \"\"\"Generates the specified number of random values in a reasonable range.\"\"\"\n",
    "    return [random.randint(-2**31, 2**31 - 1) for _ in range(count)]\n",
    "\n",
    "benchmark_sorts(random_values(1000))\n",
    "benchmark_sorts(random_values(10_000))\n",
    "benchmark_sorts(random_values(40_000))"
   ]
  },
  {
   "cell_type": "code",
   "execution_count": null,
   "id": "346b4914",
   "metadata": {},
   "outputs": [],
   "source": []
  }
 ],
 "metadata": {
  "kernelspec": {
   "display_name": "Python 3 (ipykernel)",
   "language": "python",
   "name": "python3"
  },
  "language_info": {
   "codemirror_mode": {
    "name": "ipython",
    "version": 3
   },
   "file_extension": ".py",
   "mimetype": "text/x-python",
   "name": "python",
   "nbconvert_exporter": "python",
   "pygments_lexer": "ipython3",
   "version": "3.9.7"
  }
 },
 "nbformat": 4,
 "nbformat_minor": 5
}

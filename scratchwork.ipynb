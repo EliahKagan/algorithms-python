{
 "cells": [
  {
   "cell_type": "code",
   "execution_count": 1,
   "id": "f2bfab9d",
   "metadata": {},
   "outputs": [],
   "source": [
    "def f(*args, key, **kwargs):\n",
    "    print(f'{args = }')\n",
    "    print(f'{kwargs = }')\n",
    "    print(f'{key = }')"
   ]
  },
  {
   "cell_type": "code",
   "execution_count": 2,
   "id": "bc2cbae4",
   "metadata": {},
   "outputs": [
    {
     "ename": "TypeError",
     "evalue": "f() missing 1 required keyword-only argument: 'key'",
     "output_type": "error",
     "traceback": [
      "\u001b[1;31m---------------------------------------------------------------------------\u001b[0m",
      "\u001b[1;31mTypeError\u001b[0m                                 Traceback (most recent call last)",
      "\u001b[1;32m~\\AppData\\Local\\Temp/ipykernel_5808/3782956317.py\u001b[0m in \u001b[0;36m<module>\u001b[1;34m\u001b[0m\n\u001b[1;32m----> 1\u001b[1;33m \u001b[0mf\u001b[0m\u001b[1;33m(\u001b[0m\u001b[1;33m)\u001b[0m\u001b[1;33m\u001b[0m\u001b[1;33m\u001b[0m\u001b[0m\n\u001b[0m",
      "\u001b[1;31mTypeError\u001b[0m: f() missing 1 required keyword-only argument: 'key'"
     ]
    }
   ],
   "source": [
    "f()"
   ]
  },
  {
   "cell_type": "code",
   "execution_count": null,
   "id": "7ad2ef87",
   "metadata": {},
   "outputs": [],
   "source": [
    "f(10)"
   ]
  },
  {
   "cell_type": "code",
   "execution_count": null,
   "id": "cc309787",
   "metadata": {},
   "outputs": [],
   "source": [
    "f(key=10)"
   ]
  },
  {
   "cell_type": "code",
   "execution_count": null,
   "id": "2f38fadd",
   "metadata": {},
   "outputs": [],
   "source": [
    "def g(*args, key=None, **kwargs):\n",
    "    print(f'{args = }')\n",
    "    print(f'{kwargs = }')\n",
    "    print(f'{key = }')"
   ]
  },
  {
   "cell_type": "code",
   "execution_count": null,
   "id": "ba585fe0",
   "metadata": {},
   "outputs": [],
   "source": [
    "g()"
   ]
  },
  {
   "cell_type": "code",
   "execution_count": null,
   "id": "75511a69",
   "metadata": {},
   "outputs": [],
   "source": [
    "g(10)"
   ]
  },
  {
   "cell_type": "code",
   "execution_count": null,
   "id": "a6022358",
   "metadata": {},
   "outputs": [],
   "source": [
    "g(key=10)"
   ]
  },
  {
   "cell_type": "code",
   "execution_count": null,
   "id": "95362436",
   "metadata": {},
   "outputs": [],
   "source": []
  }
 ],
 "metadata": {
  "kernelspec": {
   "display_name": "Python 3 (ipykernel)",
   "language": "python",
   "name": "python3"
  },
  "language_info": {
   "codemirror_mode": {
    "name": "ipython",
    "version": 3
   },
   "file_extension": ".py",
   "mimetype": "text/x-python",
   "name": "python",
   "nbconvert_exporter": "python",
   "pygments_lexer": "ipython3",
   "version": "3.9.7"
  }
 },
 "nbformat": 4,
 "nbformat_minor": 5
}

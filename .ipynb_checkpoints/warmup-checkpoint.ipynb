{
 "cells": [
  {
   "cell_type": "code",
   "execution_count": 1,
   "id": "a01f248c",
   "metadata": {},
   "outputs": [],
   "source": [
    "import random\n",
    "\n",
    "from helpers import random_values\n",
    "from warmup import *"
   ]
  },
  {
   "cell_type": "code",
   "execution_count": 2,
   "id": "a297c7f6",
   "metadata": {},
   "outputs": [
    {
     "name": "stdout",
     "output_type": "stream",
     "text": [
      "1, 7, 4, 9, 2, 6, 1, 8, 3, -5.\n",
      "-5, 1, 1, 2, 3, 4, 6, 7, 8, 9.\n"
     ]
    }
   ],
   "source": [
    "a = [1, 7, 4, 9, 2, 6, 1, 8, 3, -5]\n",
    "put(a)\n",
    "timsort(a)\n",
    "put(a)"
   ]
  },
  {
   "cell_type": "code",
   "execution_count": 3,
   "id": "6ac12c2e",
   "metadata": {},
   "outputs": [
    {
     "name": "stdout",
     "output_type": "stream",
     "text": [
      "-5, 9, 8, 7, 1, 1, 6, 3, 4, 2.\n",
      "-5, 1, 1, 3, 7, 9, 2, 4, 6, 8.\n"
     ]
    }
   ],
   "source": [
    "random.shuffle(a)\n",
    "put(a)\n",
    "sort_with_odds_first(a)\n",
    "put(a)"
   ]
  },
  {
   "cell_type": "code",
   "execution_count": 4,
   "id": "d2c4e5d9",
   "metadata": {},
   "outputs": [
    {
     "data": {
      "text/plain": [
       "True"
      ]
     },
     "execution_count": 4,
     "metadata": {},
     "output_type": "execute_result"
    }
   ],
   "source": [
    "find_index(a, 7) == 4"
   ]
  },
  {
   "cell_type": "code",
   "execution_count": 5,
   "id": "0ebe4b5a",
   "metadata": {},
   "outputs": [
    {
     "data": {
      "text/plain": [
       "True"
      ]
     },
     "execution_count": 5,
     "metadata": {},
     "output_type": "execute_result"
    }
   ],
   "source": [
    "find_index(a, 5) is None"
   ]
  },
  {
   "cell_type": "code",
   "execution_count": 6,
   "id": "b47873c0",
   "metadata": {},
   "outputs": [
    {
     "name": "stdout",
     "output_type": "stream",
     "text": [
      "On 1000 values, insertion_sort took 69 ms.\n",
      "On 1000 values, mergesort took 3 ms.\n",
      "On 1000 values, mergesort_bottomup took 3 ms.\n",
      "On 10000 values, insertion_sort took 6756 ms.\n",
      "On 10000 values, mergesort took 38 ms.\n",
      "On 10000 values, mergesort_bottomup took 37 ms.\n",
      "On 20000 values, insertion_sort took 26749 ms.\n",
      "On 20000 values, mergesort took 81 ms.\n",
      "On 20000 values, mergesort_bottomup took 84 ms.\n"
     ]
    }
   ],
   "source": [
    "benchmark_sorts(random_values(1000))\n",
    "benchmark_sorts(random_values(10_000))\n",
    "benchmark_sorts(random_values(20_000))"
   ]
  }
 ],
 "metadata": {
  "kernelspec": {
   "display_name": "Python 3 (ipykernel)",
   "language": "python",
   "name": "python3"
  },
  "language_info": {
   "codemirror_mode": {
    "name": "ipython",
    "version": 3
   },
   "file_extension": ".py",
   "mimetype": "text/x-python",
   "name": "python",
   "nbconvert_exporter": "python",
   "pygments_lexer": "ipython3",
   "version": "3.9.7"
  }
 },
 "nbformat": 4,
 "nbformat_minor": 5
}

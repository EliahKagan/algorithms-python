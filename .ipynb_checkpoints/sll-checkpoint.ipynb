{
 "cells": [
  {
   "cell_type": "code",
   "execution_count": 1,
   "id": "10b8c376",
   "metadata": {},
   "outputs": [],
   "source": [
    "from helpers import random_values\n",
    "from sll import *"
   ]
  },
  {
   "cell_type": "code",
   "execution_count": 2,
   "id": "4c8f4357",
   "metadata": {},
   "outputs": [
    {
     "name": "stdout",
     "output_type": "stream",
     "text": [
      "On 1000 values, timsort took 0 ms.\n",
      "On 1000 values, timsort_alt took 0 ms.\n",
      "On 1000 values, insertion_sort took 31 ms.\n",
      "On 1000 values, insertion_sort_antistable took 32 ms.\n",
      "On 1000 values, insertion_sort_alt took 32 ms.\n",
      "On 1000 values, mergesort took 4 ms.\n",
      "On 1000 values, mergesort_bottomup took 4 ms.\n",
      "\n",
      "On 5000 values, timsort took 2 ms.\n",
      "On 5000 values, timsort_alt took 2 ms.\n",
      "On 5000 values, insertion_sort took 762 ms.\n",
      "On 5000 values, insertion_sort_antistable took 754 ms.\n",
      "On 5000 values, insertion_sort_alt took 769 ms.\n",
      "On 5000 values, mergesort took 23 ms.\n",
      "On 5000 values, mergesort_bottomup took 24 ms.\n",
      "\n",
      "On 10000 values, timsort took 4 ms.\n",
      "On 10000 values, timsort_alt took 4 ms.\n",
      "On 10000 values, insertion_sort took 3126 ms.\n",
      "On 10000 values, insertion_sort_antistable took 3122 ms.\n",
      "On 10000 values, insertion_sort_alt took 3067 ms.\n",
      "On 10000 values, mergesort took 48 ms.\n",
      "On 10000 values, mergesort_bottomup took 51 ms.\n",
      "\n",
      "On 20000 values, timsort took 9 ms.\n",
      "On 20000 values, timsort_alt took 8 ms.\n",
      "On 20000 values, insertion_sort took 13612 ms.\n",
      "On 20000 values, insertion_sort_antistable took 13039 ms.\n",
      "On 20000 values, insertion_sort_alt took 12862 ms.\n",
      "On 20000 values, mergesort took 103 ms.\n",
      "On 20000 values, mergesort_bottomup took 112 ms.\n",
      "\n"
     ]
    }
   ],
   "source": [
    "benchmark_sorts(random_values(1000))\n",
    "benchmark_sorts(random_values(5000))\n",
    "benchmark_sorts(random_values(10_000))\n",
    "benchmark_sorts(random_values(20_000))"
   ]
  }
 ],
 "metadata": {
  "kernelspec": {
   "display_name": "Python 3 (ipykernel)",
   "language": "python",
   "name": "python3"
  },
  "language_info": {
   "codemirror_mode": {
    "name": "ipython",
    "version": 3
   },
   "file_extension": ".py",
   "mimetype": "text/x-python",
   "name": "python",
   "nbconvert_exporter": "python",
   "pygments_lexer": "ipython3",
   "version": "3.9.7"
  }
 },
 "nbformat": 4,
 "nbformat_minor": 5
}

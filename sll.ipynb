{
 "cells": [
  {
   "attachments": {},
   "cell_type": "markdown",
   "id": "2d07956f",
   "metadata": {},
   "source": [
    "# Singly linked lists - `sll.py` benchmarks\n",
    "\n",
    "SPDX-License-Identifier: 0BSD"
   ]
  },
  {
   "cell_type": "code",
   "execution_count": 1,
   "id": "cd060f90",
   "metadata": {},
   "outputs": [],
   "source": [
    "from helpers import random_values\n",
    "from sll import *"
   ]
  },
  {
   "cell_type": "code",
   "execution_count": 2,
   "id": "3d7941e0",
   "metadata": {},
   "outputs": [
    {
     "name": "stdout",
     "output_type": "stream",
     "text": [
      "On 1000 values, timsort took 0 ms.\n",
      "On 1000 values, timsort_alt took 0 ms.\n",
      "On 1000 values, insertion_sort took 36 ms.\n",
      "On 1000 values, insertion_sort_antistable took 35 ms.\n",
      "On 1000 values, insertion_sort_alt took 32 ms.\n",
      "On 1000 values, mergesort took 3 ms.\n",
      "On 1000 values, mergesort_bottomup took 3 ms.\n",
      "\n"
     ]
    }
   ],
   "source": [
    "benchmark_sorts(random_values(1000))"
   ]
  },
  {
   "cell_type": "code",
   "execution_count": 3,
   "id": "0fccec1f",
   "metadata": {},
   "outputs": [
    {
     "name": "stdout",
     "output_type": "stream",
     "text": [
      "On 5000 values, timsort took 2 ms.\n",
      "On 5000 values, timsort_alt took 2 ms.\n",
      "On 5000 values, insertion_sort took 919 ms.\n",
      "On 5000 values, insertion_sort_antistable took 893 ms.\n",
      "On 5000 values, insertion_sort_alt took 822 ms.\n",
      "On 5000 values, mergesort took 17 ms.\n",
      "On 5000 values, mergesort_bottomup took 18 ms.\n",
      "\n"
     ]
    }
   ],
   "source": [
    "benchmark_sorts(random_values(5000))"
   ]
  },
  {
   "cell_type": "code",
   "execution_count": 4,
   "id": "375fe852",
   "metadata": {},
   "outputs": [
    {
     "name": "stdout",
     "output_type": "stream",
     "text": [
      "On 10000 values, timsort took 5 ms.\n",
      "On 10000 values, timsort_alt took 3 ms.\n",
      "On 10000 values, insertion_sort took 3538 ms.\n",
      "On 10000 values, insertion_sort_antistable took 3380 ms.\n",
      "On 10000 values, insertion_sort_alt took 3080 ms.\n",
      "On 10000 values, mergesort took 35 ms.\n",
      "On 10000 values, mergesort_bottomup took 38 ms.\n",
      "\n"
     ]
    }
   ],
   "source": [
    "benchmark_sorts(random_values(10_000))"
   ]
  },
  {
   "cell_type": "code",
   "execution_count": 5,
   "id": "de2932b0",
   "metadata": {},
   "outputs": [
    {
     "name": "stdout",
     "output_type": "stream",
     "text": [
      "On 20000 values, timsort took 9 ms.\n",
      "On 20000 values, timsort_alt took 9 ms.\n",
      "On 20000 values, insertion_sort took 14295 ms.\n",
      "On 20000 values, insertion_sort_antistable took 14438 ms.\n",
      "On 20000 values, insertion_sort_alt took 14679 ms.\n",
      "On 20000 values, mergesort took 66 ms.\n",
      "On 20000 values, mergesort_bottomup took 82 ms.\n",
      "\n"
     ]
    }
   ],
   "source": [
    "benchmark_sorts(random_values(20_000))"
   ]
  }
 ],
 "metadata": {
  "kernelspec": {
   "display_name": "algorithms-python-fY-H6H0Y",
   "language": "python",
   "name": "python3"
  },
  "language_info": {
   "codemirror_mode": {
    "name": "ipython",
    "version": 3
   },
   "file_extension": ".py",
   "mimetype": "text/x-python",
   "name": "python",
   "nbconvert_exporter": "python",
   "pygments_lexer": "ipython3",
   "version": "3.11.1 (tags/v3.11.1:a7a450f, Dec  6 2022, 19:58:39) [MSC v.1934 64 bit (AMD64)]"
  },
  "vscode": {
   "interpreter": {
    "hash": "e781ba4050703f7e5db529a4ca9d9d329acdd9aa8f14bd2daaedd662cb91d2ac"
   }
  }
 },
 "nbformat": 4,
 "nbformat_minor": 5
}

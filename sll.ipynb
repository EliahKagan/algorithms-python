{
 "cells": [
  {
   "attachments": {},
   "cell_type": "markdown",
   "id": "2d07956f",
   "metadata": {},
   "source": [
    "# Singly linked lists - `sll.py` benchmarks\n",
    "\n",
    "SPDX-License-Identifier: 0BSD"
   ]
  },
  {
   "cell_type": "code",
   "execution_count": 1,
   "id": "cd060f90",
   "metadata": {},
   "outputs": [],
   "source": [
    "from helpers import random_values\n",
    "from sll import *"
   ]
  },
  {
   "cell_type": "code",
   "execution_count": 2,
   "id": "3d7941e0",
   "metadata": {},
   "outputs": [
    {
     "name": "stdout",
     "output_type": "stream",
     "text": [
      "On 1000 values, timsort took 0 ms.\n",
      "On 1000 values, timsort_alt took 0 ms.\n",
      "On 1000 values, insertion_sort took 31 ms.\n",
      "On 1000 values, insertion_sort_antistable took 28 ms.\n",
      "On 1000 values, insertion_sort_alt took 30 ms.\n",
      "On 1000 values, mergesort took 2 ms.\n",
      "On 1000 values, mergesort_bottomup took 2 ms.\n",
      "\n"
     ]
    }
   ],
   "source": [
    "benchmark_sorts(random_values(1000))"
   ]
  },
  {
   "cell_type": "code",
   "execution_count": 3,
   "id": "0fccec1f",
   "metadata": {},
   "outputs": [
    {
     "name": "stdout",
     "output_type": "stream",
     "text": [
      "On 5000 values, timsort took 2 ms.\n",
      "On 5000 values, timsort_alt took 1 ms.\n",
      "On 5000 values, insertion_sort took 697 ms.\n",
      "On 5000 values, insertion_sort_antistable took 670 ms.\n",
      "On 5000 values, insertion_sort_alt took 698 ms.\n",
      "On 5000 values, mergesort took 12 ms.\n",
      "On 5000 values, mergesort_bottomup took 11 ms.\n",
      "\n"
     ]
    }
   ],
   "source": [
    "benchmark_sorts(random_values(5000))"
   ]
  },
  {
   "cell_type": "code",
   "execution_count": 4,
   "id": "375fe852",
   "metadata": {},
   "outputs": [
    {
     "name": "stdout",
     "output_type": "stream",
     "text": [
      "On 10000 values, timsort took 3 ms.\n",
      "On 10000 values, timsort_alt took 5 ms.\n",
      "On 10000 values, insertion_sort took 2844 ms.\n",
      "On 10000 values, insertion_sort_antistable took 2769 ms.\n",
      "On 10000 values, insertion_sort_alt took 2788 ms.\n",
      "On 10000 values, mergesort took 24 ms.\n",
      "On 10000 values, mergesort_bottomup took 26 ms.\n",
      "\n"
     ]
    }
   ],
   "source": [
    "benchmark_sorts(random_values(10_000))"
   ]
  },
  {
   "cell_type": "code",
   "execution_count": 5,
   "id": "de2932b0",
   "metadata": {},
   "outputs": [
    {
     "name": "stdout",
     "output_type": "stream",
     "text": [
      "On 20000 values, timsort took 8 ms.\n",
      "On 20000 values, timsort_alt took 7 ms.\n",
      "On 20000 values, insertion_sort took 14095 ms.\n",
      "On 20000 values, insertion_sort_antistable took 12846 ms.\n",
      "On 20000 values, insertion_sort_alt took 12727 ms.\n",
      "On 20000 values, mergesort took 46 ms.\n",
      "On 20000 values, mergesort_bottomup took 61 ms.\n",
      "\n"
     ]
    }
   ],
   "source": [
    "benchmark_sorts(random_values(20_000))"
   ]
  }
 ],
 "metadata": {
  "kernelspec": {
   "display_name": "algorithms-python-hCUx30T-",
   "language": "python",
   "name": "python3"
  },
  "language_info": {
   "codemirror_mode": {
    "name": "ipython",
    "version": 3
   },
   "file_extension": ".py",
   "mimetype": "text/x-python",
   "name": "python",
   "nbconvert_exporter": "python",
   "pygments_lexer": "ipython3",
   "version": "3.11.3"
  },
  "vscode": {
   "interpreter": {
    "hash": "ecaffe724740083adf03a2618468c0d5c8f7f54cf0917959607ab471bba4669b"
   }
  }
 },
 "nbformat": 4,
 "nbformat_minor": 5
}

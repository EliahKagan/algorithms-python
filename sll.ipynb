{
 "cells": [
  {
   "attachments": {},
   "cell_type": "markdown",
   "id": "2d07956f",
   "metadata": {},
   "source": [
    "# Singly linked lists - `sll.py` benchmarks\n",
    "\n",
    "SPDX-License-Identifier: 0BSD"
   ]
  },
  {
   "cell_type": "code",
   "execution_count": 1,
   "id": "cd060f90",
   "metadata": {},
   "outputs": [],
   "source": [
    "from helpers import random_values\n",
    "from sll import *"
   ]
  },
  {
   "cell_type": "code",
   "execution_count": 2,
   "id": "3d7941e0",
   "metadata": {},
   "outputs": [
    {
     "name": "stdout",
     "output_type": "stream",
     "text": [
      "On 1000 values, timsort took 0 ms.\n",
      "On 1000 values, timsort_alt took 0 ms.\n",
      "On 1000 values, insertion_sort took 25 ms.\n",
      "On 1000 values, insertion_sort_antistable took 27 ms.\n",
      "On 1000 values, insertion_sort_alt took 25 ms.\n",
      "On 1000 values, mergesort took 3 ms.\n",
      "On 1000 values, mergesort_bottomup took 2 ms.\n",
      "\n"
     ]
    }
   ],
   "source": [
    "benchmark_sorts(random_values(1000))"
   ]
  },
  {
   "cell_type": "code",
   "execution_count": 3,
   "id": "0fccec1f",
   "metadata": {},
   "outputs": [
    {
     "name": "stdout",
     "output_type": "stream",
     "text": [
      "On 5000 values, timsort took 2 ms.\n",
      "On 5000 values, timsort_alt took 1 ms.\n",
      "On 5000 values, insertion_sort took 630 ms.\n",
      "On 5000 values, insertion_sort_antistable took 619 ms.\n",
      "On 5000 values, insertion_sort_alt took 583 ms.\n",
      "On 5000 values, mergesort took 11 ms.\n",
      "On 5000 values, mergesort_bottomup took 10 ms.\n",
      "\n"
     ]
    }
   ],
   "source": [
    "benchmark_sorts(random_values(5000))"
   ]
  },
  {
   "cell_type": "code",
   "execution_count": 4,
   "id": "375fe852",
   "metadata": {},
   "outputs": [
    {
     "name": "stdout",
     "output_type": "stream",
     "text": [
      "On 10000 values, timsort took 3 ms.\n",
      "On 10000 values, timsort_alt took 2 ms.\n",
      "On 10000 values, insertion_sort took 2450 ms.\n",
      "On 10000 values, insertion_sort_antistable took 2440 ms.\n",
      "On 10000 values, insertion_sort_alt took 2396 ms.\n",
      "On 10000 values, mergesort took 21 ms.\n",
      "On 10000 values, mergesort_bottomup took 23 ms.\n",
      "\n"
     ]
    }
   ],
   "source": [
    "benchmark_sorts(random_values(10_000))"
   ]
  },
  {
   "cell_type": "code",
   "execution_count": 5,
   "id": "de2932b0",
   "metadata": {},
   "outputs": [
    {
     "name": "stdout",
     "output_type": "stream",
     "text": [
      "On 20000 values, timsort took 8 ms.\n",
      "On 20000 values, timsort_alt took 6 ms.\n",
      "On 20000 values, insertion_sort took 10541 ms.\n",
      "On 20000 values, insertion_sort_antistable took 10133 ms.\n",
      "On 20000 values, insertion_sort_alt took 10232 ms.\n",
      "On 20000 values, mergesort took 46 ms.\n",
      "On 20000 values, mergesort_bottomup took 49 ms.\n",
      "\n"
     ]
    }
   ],
   "source": [
    "benchmark_sorts(random_values(20_000))"
   ]
  }
 ],
 "metadata": {
  "kernelspec": {
   "display_name": "Python 3 (ipykernel)",
   "language": "python",
   "name": "python3"
  },
  "language_info": {
   "codemirror_mode": {
    "name": "ipython",
    "version": 3
   },
   "file_extension": ".py",
   "mimetype": "text/x-python",
   "name": "python",
   "nbconvert_exporter": "python",
   "pygments_lexer": "ipython3",
   "version": "3.11.3"
  },
  "vscode": {
   "interpreter": {
    "hash": "ecaffe724740083adf03a2618468c0d5c8f7f54cf0917959607ab471bba4669b"
   }
  }
 },
 "nbformat": 4,
 "nbformat_minor": 5
}

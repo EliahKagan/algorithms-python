{
 "cells": [
  {
   "cell_type": "code",
   "execution_count": 1,
   "id": "cd060f90",
   "metadata": {},
   "outputs": [],
   "source": [
    "from helpers import random_values\n",
    "from sll import *"
   ]
  },
  {
   "cell_type": "code",
   "execution_count": 2,
   "id": "3d7941e0",
   "metadata": {},
   "outputs": [
    {
     "name": "stdout",
     "output_type": "stream",
     "text": [
      "On 1000 values, timsort took 0 ms.\n",
      "On 1000 values, timsort_alt took 1 ms.\n",
      "On 1000 values, insertion_sort took 29 ms.\n",
      "On 1000 values, insertion_sort_antistable took 28 ms.\n",
      "On 1000 values, insertion_sort_alt took 27 ms.\n",
      "On 1000 values, mergesort took 4 ms.\n",
      "On 1000 values, mergesort_bottomup took 4 ms.\n",
      "\n",
      "On 5000 values, timsort took 2 ms.\n",
      "On 5000 values, timsort_alt took 2 ms.\n",
      "On 5000 values, insertion_sort took 700 ms.\n",
      "On 5000 values, insertion_sort_antistable took 710 ms.\n",
      "On 5000 values, insertion_sort_alt took 677 ms.\n",
      "On 5000 values, mergesort took 18 ms.\n",
      "On 5000 values, mergesort_bottomup took 20 ms.\n",
      "\n",
      "On 10000 values, timsort took 4 ms.\n",
      "On 10000 values, timsort_alt took 3 ms.\n",
      "On 10000 values, insertion_sort took 2891 ms.\n",
      "On 10000 values, insertion_sort_antistable took 2912 ms.\n",
      "On 10000 values, insertion_sort_alt took 2852 ms.\n",
      "On 10000 values, mergesort took 40 ms.\n",
      "On 10000 values, mergesort_bottomup took 44 ms.\n",
      "\n",
      "On 20000 values, timsort took 8 ms.\n",
      "On 20000 values, timsort_alt took 8 ms.\n",
      "On 20000 values, insertion_sort took 12891 ms.\n",
      "On 20000 values, insertion_sort_antistable took 12801 ms.\n",
      "On 20000 values, insertion_sort_alt took 12432 ms.\n",
      "On 20000 values, mergesort took 83 ms.\n",
      "On 20000 values, mergesort_bottomup took 96 ms.\n",
      "\n"
     ]
    }
   ],
   "source": [
    "benchmark_sorts(random_values(1000))\n",
    "benchmark_sorts(random_values(5000))\n",
    "benchmark_sorts(random_values(10_000))\n",
    "benchmark_sorts(random_values(20_000))"
   ]
  }
 ],
 "metadata": {
  "kernelspec": {
   "display_name": "Python 3 (ipykernel)",
   "language": "python",
   "name": "python3"
  },
  "language_info": {
   "codemirror_mode": {
    "name": "ipython",
    "version": 3
   },
   "file_extension": ".py",
   "mimetype": "text/x-python",
   "name": "python",
   "nbconvert_exporter": "python",
   "pygments_lexer": "ipython3",
   "version": "3.10.1"
  }
 },
 "nbformat": 4,
 "nbformat_minor": 5
}
